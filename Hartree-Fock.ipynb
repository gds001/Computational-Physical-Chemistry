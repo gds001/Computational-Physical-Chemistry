{
 "cells": [
  {
   "cell_type": "markdown",
   "metadata": {},
   "source": [
    "# Chapter 5\n",
    "\n",
    "This focuses on the multiparticle hamiltonian and the problems wth electron correlation."
   ]
  },
  {
   "cell_type": "code",
   "execution_count": 7,
   "metadata": {},
   "outputs": [],
   "source": [
    "import numpy as np\n",
    "import matplotlib.pyplot as plt\n",
    "import math as math\n",
    "import cmath as cmat\n",
    "import scipy.optimize as optimize\n",
    "import numpy.linalg as la"
   ]
  },
  {
   "cell_type": "markdown",
   "metadata": {},
   "source": [
    "## Helium Atom\n",
    "\n",
    "Note this section details the integral math behind heliums hamiltonian and integrates each section.  These assumptions will not usually work or systems with more than one spacial orbital."
   ]
  },
  {
   "cell_type": "code",
   "execution_count": 11,
   "metadata": {},
   "outputs": [
    {
     "name": "stdout",
     "output_type": "stream",
     "text": [
      "      fun: -2.84765625\n",
      " hess_inv: array([[1]])\n",
      "      jac: array([0.])\n",
      "  message: 'Optimization terminated successfully.'\n",
      "     nfev: 9\n",
      "      nit: 1\n",
      "     njev: 3\n",
      "   status: 0\n",
      "  success: True\n",
      "        x: array([1.6875])\n"
     ]
    },
    {
     "data": {
      "image/png": "[encoded data removed]",
      "text/plain": [
       "<Figure size 432x288 with 1 Axes>"
      ]
     },
     "metadata": {
      "needs_background": "light"
     },
     "output_type": "display_data"
    }
   ],
   "source": [
    "#Assuming trial=2*z**(3/2)*math.exp(-x*r), which is the one electron answer\n",
    "def hInt(z): return 0.5*z**2-2*z\n",
    "def twoEInt(z): return 5/8*z\n",
    "def energy(z): return 2*hInt(z)+twoEInt(z)\n",
    "\n",
    "a=0.01\n",
    "L=2.5\n",
    "nPoints=int(L/a)\n",
    "\n",
    "z=np.zeros(nPoints)\n",
    "e=np.zeros(nPoints)\n",
    "for i in range(nPoints):\n",
    "    z[i]=i*a\n",
    "    e[i]=energy(i*a)\n",
    "    \n",
    "plt.plot(z,psi)\n",
    "plt.xlim(1,2.5)\n",
    "plt.ylim(-3,-2)\n",
    "\n",
    "result=optimize.minimize(energy,1.6)\n",
    "\n",
    "print(result)"
   ]
  },
  {
   "cell_type": "markdown",
   "metadata": {},
   "source": [
    "### Now lets try to use matricies.\n",
    "\n",
    "The Fock Matrix is introduced as the nice way to iteratively improve the parameters in the solutions."
   ]
  },
  {
   "cell_type": "code",
   "execution_count": 15,
   "metadata": {},
   "outputs": [
    {
     "name": "stdout",
     "output_type": "stream",
     "text": [
      "[[-1.85073991 -1.88346692]\n",
      " [-1.88346692 -4.366395  ]]\n"
     ]
    }
   ],
   "source": [
    "#The same psi is used above to yield these for hMat values\n",
    "#Zetas come from a simple basis set for atoms He-Xe\n",
    "z1=1.45363\n",
    "z2=2.91093\n",
    "h11=0.5*z1**2-2*z1\n",
    "h22=0.5*z2-2*z2\n",
    "h12=math.sqrt(z1**3)*math.sqrt(z2**3)*(4*z1*z2-8*z1-8*z2)/((z1+z2)**3)\n",
    "h21=h12\n",
    "\n",
    "hMat=np.array([[h11,h12],[h21,h22]])\n",
    "print(hMat)"
   ]
  },
  {
   "cell_type": "code",
   "execution_count": null,
   "metadata": {},
   "outputs": [],
   "source": []
  }
 ],
 "metadata": {
  "kernelspec": {
   "display_name": "Python 3",
   "language": "python",
   "name": "python3"
  },
  "language_info": {
   "codemirror_mode": {
    "name": "ipython",
    "version": 3
   },
   "file_extension": ".py",
   "mimetype": "text/x-python",
   "name": "python",
   "nbconvert_exporter": "python",
   "pygments_lexer": "ipython3",
   "version": "3.7.1"
  }
 },
 "nbformat": 4,
 "nbformat_minor": 2
}
