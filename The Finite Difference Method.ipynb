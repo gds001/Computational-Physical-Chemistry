{
 "cells": [
  {
   "cell_type": "code",
   "execution_count": 1,
   "metadata": {},
   "outputs": [],
   "source": [
    "import numpy as np\n",
    "import matplotlib.pyplot as plt\n",
    "import math\n",
    "import numpy.linalg as la"
   ]
  },
  {
   "cell_type": "code",
   "execution_count": 7,
   "metadata": {},
   "outputs": [],
   "source": [
    "def psi1D(n,x,L):\n",
    "    return sqrt(2/L)*sin(n*math.pi*x/L)\n",
    "def energy1D(n,L):\n",
    "    return math.pi*math.pi*n*n/(2*L*L)\n",
    "\n",
    "def integrate(x,y):\n",
    "    result=0\n",
    "    for i in range(1,nPoints,1):\n",
    "        temp=(y[i]+y[i-1])/2*(x[i]-x[i-1])\n",
    "        result+=temp\n",
    "    return result"
   ]
  },
  {
   "cell_type": "code",
   "execution_count": 8,
   "metadata": {},
   "outputs": [
    {
     "name": "stdout",
     "output_type": "stream",
     "text": [
      "[[ 408.04 -204.02    0.   ...    0.      0.      0.  ]\n",
      " [-204.02  408.04 -204.02 ...    0.      0.      0.  ]\n",
      " [   0.   -204.02  408.04 ...    0.      0.      0.  ]\n",
      " ...\n",
      " [   0.      0.      0.   ...  408.04 -204.02    0.  ]\n",
      " [   0.      0.      0.   ... -204.02  408.04 -204.02]\n",
      " [   0.      0.      0.   ...    0.   -204.02  408.04]]\n",
      "0.1973761735771728\n"
     ]
    }
   ],
   "source": [
    "nPoints=100\n",
    "L=5\n",
    "a=L/(nPoints+1)\n",
    "t=1/(2*a*a)\n",
    "def V(x):\n",
    "    return 0\n",
    "\n",
    "hMat=np.zeros((nPoints,nPoints))\n",
    "\n",
    "for i in range(nPoints):\n",
    "    for j in range(nPoints):\n",
    "        if i==j:\n",
    "            hMat[i][j]=V(i)+2*t\n",
    "        elif i==j+1 or i==j-1:\n",
    "            hMat[i][j]=-t\n",
    "        else:\n",
    "            hMat[i][j]=0\n",
    "\n",
    "eigen,eigenv=la.eig(hMat)\n",
    "eigen=np.sort(eigen)\n",
    "print(hMat)\n",
    "print(eigen[0])"
   ]
  },
  {
   "cell_type": "code",
   "execution_count": 9,
   "metadata": {},
   "outputs": [
    {
     "data": {
      "text/plain": [
       "[<matplotlib.lines.Line2D at 0x1c1f1c05390>]"
      ]
     },
     "execution_count": 9,
     "metadata": {},
     "output_type": "execute_result"
    },
    {
     "data": {
      "image/png": "[encoded data removed]",
      "text/plain": [
       "<Figure size 432x288 with 1 Axes>"
      ]
     },
     "metadata": {},
     "output_type": "display_data"
    }
   ],
   "source": [
    "x=range(1,nPoints+1)\n",
    "energy=np.array([])\n",
    "for i in x:\n",
    "    energy=np.append(energy,[energy1D(i,L)])\n",
    "    \n",
    "plt.plot(x,eigen)\n",
    "plt.plot(x,energy)"
   ]
  },
  {
   "cell_type": "code",
   "execution_count": 10,
   "metadata": {},
   "outputs": [
    {
     "data": {
      "text/plain": [
       "[<matplotlib.lines.Line2D at 0x1c1f1d350f0>]"
      ]
     },
     "execution_count": 10,
     "metadata": {},
     "output_type": "execute_result"
    },
    {
     "data": {
      "image/png": "[encoded data removed]",
      "text/plain": [
       "<Figure size 432x288 with 1 Axes>"
      ]
     },
     "metadata": {},
     "output_type": "display_data"
    }
   ],
   "source": [
    "error=np.array([])\n",
    "\n",
    "for i in range(nPoints):\n",
    "    error=np.append(error,[(eigen[i]-energy[i])/energy[i]*100])\n",
    "    \n",
    "plt.plot(x,error)"
   ]
  },
  {
   "cell_type": "code",
   "execution_count": 15,
   "metadata": {},
   "outputs": [
    {
     "name": "stdout",
     "output_type": "stream",
     "text": [
      "-4.60\n"
     ]
    }
   ],
   "source": [
    "eigenv1=eigenv[4]/math.sqrt(a)\n",
    "\n",
    "for i in range(nPoints):\n",
    "    eigenv1=\n",
    "\n",
    "print(\"{0:.2f}\".format(integrate(x,eigenv1)))"
   ]
  },
  {
   "cell_type": "code",
   "execution_count": null,
   "metadata": {},
   "outputs": [],
   "source": []
  },
  {
   "cell_type": "code",
   "execution_count": null,
   "metadata": {},
   "outputs": [],
   "source": []
  }
 ],
 "metadata": {
  "kernelspec": {
   "display_name": "Python 3",
   "language": "python",
   "name": "python3"
  },
  "language_info": {
   "codemirror_mode": {
    "name": "ipython",
    "version": 3
   },
   "file_extension": ".py",
   "mimetype": "text/x-python",
   "name": "python",
   "nbconvert_exporter": "python",
   "pygments_lexer": "ipython3",
   "version": "3.6.5"
  }
 },
 "nbformat": 4,
 "nbformat_minor": 2
}
