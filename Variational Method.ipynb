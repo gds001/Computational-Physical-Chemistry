{
 "cells": [
  {
   "cell_type": "markdown",
   "metadata": {},
   "source": [
    "# Chapter 4\n",
    "\n",
    "This focuses on the variational method to solve computational chemistry problems.  This uses the fact that approximations give higher energy results, so that one can optimize parameteres to approach the true result."
   ]
  },
  {
   "cell_type": "code",
   "execution_count": 1,
   "metadata": {},
   "outputs": [],
   "source": [
    "import numpy as np\n",
    "import matplotlib.pyplot as plt\n",
    "import math as math\n",
    "import cmath as cmat\n",
    "import scipy.optimize as optimize\n",
    "\n",
    "def integrate(x,y):\n",
    "    result=0\n",
    "    for i in range(1,y.size):\n",
    "        temp=(y[i]+y[i-1])/2*(x[i]-x[i-1])\n",
    "        result+=temp\n",
    "    return result"
   ]
  },
  {
   "cell_type": "markdown",
   "metadata": {},
   "source": [
    "## Lets start with Particle in a Box"
   ]
  },
  {
   "cell_type": "code",
   "execution_count": 2,
   "metadata": {},
   "outputs": [],
   "source": [
    "def psiPIB(n,x,L):\n",
    "    return math.sqrt(2/L)*math.sin(n*math.pi*x/L)\n",
    "\n",
    "def energyPIB(n,L):\n",
    "    return math.pi**2*n**2/(2*L*L)"
   ]
  },
  {
   "cell_type": "markdown",
   "metadata": {},
   "source": [
    "### First variation"
   ]
  },
  {
   "cell_type": "code",
   "execution_count": 3,
   "metadata": {},
   "outputs": [
    {
     "name": "stdout",
     "output_type": "stream",
     "text": [
      "0.20000\n",
      "1.32\n"
     ]
    },
    {
     "data": {
      "image/png": "[encoded data removed]",
      "text/plain": [
       "<Figure size 432x288 with 1 Axes>"
      ]
     },
     "metadata": {
      "needs_background": "light"
     },
     "output_type": "display_data"
    }
   ],
   "source": [
    "def trialPIB(x,L):\n",
    "    return x*(L-x)\n",
    "\n",
    "\n",
    "L=5\n",
    "a=.01\n",
    "nPoints=int(L/a)\n",
    "\n",
    "x=np.array([])\n",
    "trial=np.array([])\n",
    "exact=np.array([])\n",
    "for i in range(nPoints):\n",
    "    x=np.append(x,[i*a])\n",
    "    trial=np.append(trial,[trialPIB(x[i],L)])\n",
    "    exact=np.append(exact,[psiPIB(1,x[i],L)])\n",
    "    \n",
    "\n",
    "\n",
    "trial2=trial*trial\n",
    "norm=integrate(x,trial2)\n",
    "\n",
    "trial=trial/math.sqrt(norm)\n",
    "\n",
    "derive=np.array([])\n",
    "for i in range(nPoints):\n",
    "    if i==0: derive=np.append(derive,[(trial[i+1]-2*trial[i])/a/a])\n",
    "    elif i==nPoints-1: derive=np.append(derive,[(trial[i-1]-2*trial[i])/a/a])\n",
    "    else: derive=np.append(derive,[(trial[i+1]+trial[i-1]-2*trial[i])/a/a])\n",
    "\n",
    "\n",
    "plt.plot(x,exact)\n",
    "plt.plot(x,trial)\n",
    "\n",
    "value=integrate(x,trial*(-1/2)*derive)\n",
    "print(\"{0:.5f}\".format(value))\n",
    "print(\"{0:.2f}\".format((value-energyPIB(1,5))/energyPIB(1,5)*100))"
   ]
  },
  {
   "cell_type": "markdown",
   "metadata": {},
   "source": [
    "### More extreme parameters can greatly improve results with extra little cost\n",
    "\n",
    "Notice the uses of scipy's optimize fucntion.  It takesa function with an arrayof parameters and lets you optimize it with constraints.  Notice here now that you MUST have a function returns what you want to optimize and takes in the parameters, even if the middle information is what you want.  You must reconstruct the data with the inside info."
   ]
  },
  {
   "cell_type": "code",
   "execution_count": 4,
   "metadata": {},
   "outputs": [
    {
     "name": "stdout",
     "output_type": "stream",
     "text": [
      "     fun: 0.19756709231619946\n",
      "     jac: array([ -0.03415812,  -0.04845324,  -0.24229393,  -7.25864591,\n",
      "         0.        , -30.21117931])\n",
      " message: 'Optimization terminated successfully.'\n",
      "    nfev: 76\n",
      "     nit: 9\n",
      "    njev: 9\n",
      "  status: 0\n",
      " success: True\n",
      "       x: array([ 0.        ,  5.08601207, -0.563176  , -0.04231133,  0.        ,\n",
      "        0.00652251])\n"
     ]
    }
   ],
   "source": [
    "def trialPIB(var,x):\n",
    "    a,b,c,d,e,f=var\n",
    "    return a+b*x+c*x**2+d*x**3+d*x**4+f*x**5\n",
    "def energy(variables):\n",
    "    a=.01\n",
    "    L=5\n",
    "    nPoints=int(L/a)\n",
    "    x=np.array([])\n",
    "    for i in range(nPoints):\n",
    "        x=np.append(x,[i*a])\n",
    "        \n",
    "    trial=np.array([])\n",
    "    for i in range(nPoints):\n",
    "        trial=np.append(trial,[trialPIB(variables,x[i])])\n",
    "        \n",
    "    trial2=trial*trial\n",
    "    norm=integrate(x,trial2)\n",
    "    trial=trial/math.sqrt(norm)\n",
    "    \n",
    "    derive=np.array([])\n",
    "    for i in range(nPoints):\n",
    "        if i==0: derive=np.append(derive,[(trial[i+1]-2*trial[i])/a/a])\n",
    "        elif i==nPoints-1: derive=np.append(derive,[(trial[i-1]-2*trial[i])/a/a])\n",
    "        else: derive=np.append(derive,[(trial[i+1]+trial[i-1]-2*trial[i])/a/a])\n",
    "            \n",
    "    return integrate(x,trial*(-1/2)*derive)\n",
    "\n",
    "L=5\n",
    "\n",
    "def c1(var):\n",
    "    a,b,c,d,e,f=var\n",
    "    x=0\n",
    "    return a+b*x+c*x**2+d*x**3+d*x**4+f*x**5\n",
    "def c2(var):\n",
    "    a,b,c,d,e,f=var\n",
    "    x=5\n",
    "    return a+b*x+c*x**2+d*x**3+d*x**4+f*x**5\n",
    "def c3(var):\n",
    "    a,b,c,d,e,f=var\n",
    "    x=.1\n",
    "    return a+b*x+c*x**2+d*x**3+d*x**4+f*x**5\n",
    "\n",
    "take1=np.array([0,5,-1,0,0,0])\n",
    "result= optimize.minimize(energy,take1,\n",
    "                          constraints=({\"fun\":c1,\"type\":\"eq\"},\n",
    "                                       {\"fun\":c2,\"type\":\"eq\"},\n",
    "                                       {\"fun\":c3,\"type\":\"ineq\"}))\n",
    "print(result)"
   ]
  },
  {
   "cell_type": "code",
   "execution_count": 5,
   "metadata": {},
   "outputs": [
    {
     "name": "stdout",
     "output_type": "stream",
     "text": [
      "0.19757\n",
      "0.09\n"
     ]
    },
    {
     "data": {
      "image/png": "[encoded data removed]",
      "text/plain": [
       "<Figure size 432x288 with 1 Axes>"
      ]
     },
     "metadata": {
      "needs_background": "light"
     },
     "output_type": "display_data"
    }
   ],
   "source": [
    "a=.01\n",
    "L=5\n",
    "nPoints=int(L/a)\n",
    "x=np.array([])\n",
    "for i in range(nPoints):\n",
    "    x=np.append(x,[i*a])\n",
    "       \n",
    "trial=np.array([])\n",
    "for i in range(nPoints):\n",
    "    trial=np.append(trial,[trialPIB(result.x,x[i])])\n",
    "\n",
    "trial2=trial*trial\n",
    "norm=integrate(x,trial2)\n",
    "trial=trial/math.sqrt(norm)\n",
    "\n",
    "plt.plot(x,trial)\n",
    "plt.plot(x,exact)\n",
    "\n",
    "derive=np.array([])\n",
    "for i in range(nPoints):\n",
    "    if i==0: derive=np.append(derive,[(trial[i+1]-2*trial[i])/a/a])\n",
    "    elif i==nPoints-1: derive=np.append(derive,[(trial[i-1]-2*trial[i])/a/a])\n",
    "    else: derive=np.append(derive,[(trial[i+1]+trial[i-1]-2*trial[i])/a/a])\n",
    "\n",
    "value=integrate(x,trial*(-1/2)*derive)\n",
    "print(\"{0:.5f}\".format(value))\n",
    "print(\"{0:.2f}\".format((value-energyPIB(1,5))/energyPIB(1,5)*100))"
   ]
  },
  {
   "cell_type": "markdown",
   "metadata": {},
   "source": [
    "## The Hydrogen Atom can be described by Variational approximations"
   ]
  },
  {
   "cell_type": "code",
   "execution_count": null,
   "metadata": {},
   "outputs": [],
   "source": []
  }
 ],
 "metadata": {
  "kernelspec": {
   "display_name": "Python 3",
   "language": "python",
   "name": "python3"
  },
  "language_info": {
   "codemirror_mode": {
    "name": "ipython",
    "version": 3
   },
   "file_extension": ".py",
   "mimetype": "text/x-python",
   "name": "python",
   "nbconvert_exporter": "python",
   "pygments_lexer": "ipython3",
   "version": "3.7.1"
  }
 },
 "nbformat": 4,
 "nbformat_minor": 2
}
