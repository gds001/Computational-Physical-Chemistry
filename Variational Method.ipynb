{
 "cells": [
  {
   "cell_type": "markdown",
   "metadata": {},
   "source": [
    "# Chapter 4\n",
    "\n",
    "This focuses on the variational method to solve computational chemistry problems.  This uses the fact that approximations give higher energy results, so that one can optimize parameteres to approach the true result."
   ]
  },
  {
   "cell_type": "code",
   "execution_count": 1,
   "metadata": {},
   "outputs": [],
   "source": [
    "import numpy as np\n",
    "import matplotlib.pyplot as plt\n",
    "import math as math\n",
    "import cmath as cmat\n",
    "import scipy.optimize as optimize\n",
    "import numpy.linalg as la\n",
    "\n",
    "def integrate(x,y):\n",
    "    result=0\n",
    "    for i in range(1,y.size):\n",
    "        temp=(y[i]+y[i-1])/2*(x[i]-x[i-1])\n",
    "        result+=temp\n",
    "    return result\n",
    "\n",
    "def rIntegrate(x,y):\n",
    "    result=0\n",
    "    y=y*x**2\n",
    "    for i in range(1,y.size):\n",
    "        temp=(y[i]+y[i-1])/2*(x[i]-x[i-1])\n",
    "        result+=temp\n",
    "    return 4*math.pi*result\n",
    "\n",
    "def derive1(x,y):\n",
    "    derive=np.array([])\n",
    "    a=x[1]-x[0]\n",
    "    nPoints=x.size\n",
    "    for i in range(nPoints):\n",
    "        if i==0: derive=np.append(derive,[(y[i+1]-y[i])/a])\n",
    "        elif i==nPoints-1: derive=np.append(derive,[(y[i]-y[i-1])/a])\n",
    "        else: derive=np.append(derive,[(y[i+1]-y[i-1])/a/2])\n",
    "    return derive\n",
    "\n",
    "def derive2(x,y):\n",
    "    derive=np.array([])\n",
    "    a=x[1]-x[0]\n",
    "    nPoints=x.size\n",
    "    for i in range(nPoints):\n",
    "        if i==0: derive=np.append(derive,[(y[i+1]-2*y[i])/a/a])\n",
    "        elif i==nPoints-1: derive=np.append(derive,[(y[i-1]-2*y[i])/a/a])\n",
    "        else: derive=np.append(derive,[(y[i+1]+y[i-1]-2*y[i])/a/a])\n",
    "    return derive"
   ]
  },
  {
   "cell_type": "markdown",
   "metadata": {},
   "source": [
    "## Lets start with Particle in a Box"
   ]
  },
  {
   "cell_type": "code",
   "execution_count": 2,
   "metadata": {},
   "outputs": [],
   "source": [
    "def psiPIB(n,x,L):\n",
    "    return math.sqrt(2/L)*math.sin(n*math.pi*x/L)\n",
    "\n",
    "def energyPIB(n,L):\n",
    "    return math.pi**2*n**2/(2*L*L)"
   ]
  },
  {
   "cell_type": "markdown",
   "metadata": {},
   "source": [
    "### First variation"
   ]
  },
  {
   "cell_type": "code",
   "execution_count": 3,
   "metadata": {},
   "outputs": [
    {
     "name": "stdout",
     "output_type": "stream",
     "text": [
      "0.20000\n",
      "1.32\n"
     ]
    },
    {
     "data": {
      "image/png": "[encoded data removed]",
      "text/plain": [
       "<Figure size 432x288 with 1 Axes>"
      ]
     },
     "metadata": {
      "needs_background": "light"
     },
     "output_type": "display_data"
    }
   ],
   "source": [
    "def trialPIB(x,L):\n",
    "    return x*(L-x)\n",
    "\n",
    "\n",
    "L=5\n",
    "a=.01\n",
    "nPoints=int(L/a)\n",
    "\n",
    "x=np.array([])\n",
    "trial=np.array([])\n",
    "exact=np.array([])\n",
    "for i in range(nPoints):\n",
    "    x=np.append(x,[i*a])\n",
    "    trial=np.append(trial,[trialPIB(x[i],L)])\n",
    "    exact=np.append(exact,[psiPIB(1,x[i],L)])\n",
    "    \n",
    "\n",
    "\n",
    "trial2=trial*trial\n",
    "norm=integrate(x,trial2)\n",
    "\n",
    "trial=trial/math.sqrt(norm)\n",
    "\n",
    "derive=derive2(x,trial)\n",
    "\n",
    "plt.plot(x,exact)\n",
    "plt.plot(x,trial)\n",
    "\n",
    "value=integrate(x,trial*(-1/2)*derive)\n",
    "print(\"{0:.5f}\".format(value))\n",
    "print(\"{0:.2f}\".format((value-energyPIB(1,5))/energyPIB(1,5)*100))"
   ]
  },
  {
   "cell_type": "markdown",
   "metadata": {},
   "source": [
    "### More extreme parameters can greatly improve results with extra little cost\n",
    "\n",
    "Notice the uses of scipy's optimize fucntion.  It takesa function with an arrayof parameters and lets you optimize it with constraints.  Notice here now that you MUST have a function returns what you want to optimize and takes in the parameters, even if the middle information is what you want.  You must reconstruct the data with the inside info."
   ]
  },
  {
   "cell_type": "code",
   "execution_count": 4,
   "metadata": {},
   "outputs": [
    {
     "name": "stdout",
     "output_type": "stream",
     "text": [
      "     fun: 0.19756709231619946\n",
      "     jac: array([ -0.03415812,  -0.04845324,  -0.24229393,  -7.25864591,\n",
      "         0.        , -30.21117931])\n",
      " message: 'Optimization terminated successfully.'\n",
      "    nfev: 76\n",
      "     nit: 9\n",
      "    njev: 9\n",
      "  status: 0\n",
      " success: True\n",
      "       x: array([ 0.        ,  5.08601207, -0.563176  , -0.04231133,  0.        ,\n",
      "        0.00652251])\n"
     ]
    }
   ],
   "source": [
    "def trialPIB(var,x):\n",
    "    a,b,c,d,e,f=var\n",
    "    return a+b*x+c*x**2+d*x**3+d*x**4+f*x**5\n",
    "def energy(variables):\n",
    "    a=.01\n",
    "    L=5\n",
    "    nPoints=int(L/a)\n",
    "    x=np.array([])\n",
    "    for i in range(nPoints):\n",
    "        x=np.append(x,[i*a])\n",
    "        \n",
    "    trial=np.array([])\n",
    "    for i in range(nPoints):\n",
    "        trial=np.append(trial,[trialPIB(variables,x[i])])\n",
    "        \n",
    "    trial2=trial*trial\n",
    "    norm=integrate(x,trial2)\n",
    "    trial=trial/math.sqrt(norm)\n",
    "    \n",
    "    derive=derive2(x,trial)\n",
    "            \n",
    "    return integrate(x,trial*(-1/2)*derive)\n",
    "\n",
    "L=5\n",
    "\n",
    "def c1(var):\n",
    "    a,b,c,d,e,f=var\n",
    "    x=0\n",
    "    return a+b*x+c*x**2+d*x**3+d*x**4+f*x**5\n",
    "def c2(var):\n",
    "    a,b,c,d,e,f=var\n",
    "    x=5\n",
    "    return a+b*x+c*x**2+d*x**3+d*x**4+f*x**5\n",
    "def c3(var):\n",
    "    a,b,c,d,e,f=var\n",
    "    x=.1\n",
    "    return a+b*x+c*x**2+d*x**3+d*x**4+f*x**5\n",
    "\n",
    "take1=np.array([0,5,-1,0,0,0])\n",
    "result= optimize.minimize(energy,take1,\n",
    "                          constraints=({\"fun\":c1,\"type\":\"eq\"},\n",
    "                                       {\"fun\":c2,\"type\":\"eq\"},\n",
    "                                       {\"fun\":c3,\"type\":\"ineq\"}))\n",
    "print(result)"
   ]
  },
  {
   "cell_type": "code",
   "execution_count": 5,
   "metadata": {},
   "outputs": [
    {
     "name": "stdout",
     "output_type": "stream",
     "text": [
      "0.19757\n",
      "0.09\n"
     ]
    },
    {
     "data": {
      "image/png": "[encoded data removed]",
      "text/plain": [
       "<Figure size 432x288 with 1 Axes>"
      ]
     },
     "metadata": {
      "needs_background": "light"
     },
     "output_type": "display_data"
    }
   ],
   "source": [
    "a=.01\n",
    "L=5\n",
    "nPoints=int(L/a)\n",
    "x=np.array([])\n",
    "for i in range(nPoints):\n",
    "    x=np.append(x,[i*a])\n",
    "       \n",
    "trial=np.array([])\n",
    "for i in range(nPoints):\n",
    "    trial=np.append(trial,[trialPIB(result.x,x[i])])\n",
    "\n",
    "trial2=trial*trial\n",
    "norm=integrate(x,trial2)\n",
    "trial1=trial/math.sqrt(norm)\n",
    "\n",
    "plt.plot(x,trial1)\n",
    "plt.plot(x,exact)\n",
    "\n",
    "derive=derive2(x,trial1)\n",
    "\n",
    "value=integrate(x,trial1*(-1/2)*derive)\n",
    "print(\"{0:.5f}\".format(value))\n",
    "print(\"{0:.2f}\".format((value-energyPIB(1,5))/energyPIB(1,5)*100))"
   ]
  },
  {
   "cell_type": "markdown",
   "metadata": {},
   "source": [
    "### Something extra, trying to orthogonalize the PIB1 to get PIB2"
   ]
  },
  {
   "cell_type": "code",
   "execution_count": 6,
   "metadata": {},
   "outputs": [
    {
     "name": "stdout",
     "output_type": "stream",
     "text": [
      "     fun: 0.819923305943399\n",
      "     jac: array([-9.22173262e-03,  7.04536065e-02,  3.57751057e-01,  1.04989669e+01,\n",
      "        0.00000000e+00,  4.34623479e+01,  2.16249325e+02,  1.07646344e+03])\n",
      " message: 'Optimization terminated successfully.'\n",
      "    nfev: 533\n",
      "     nit: 50\n",
      "    njev: 49\n",
      "  status: 0\n",
      " success: True\n",
      "       x: array([ 0.        ,  9.99361914,  9.48074578, -3.6842728 ,  0.        ,\n",
      "        1.79920196, -0.25993819,  0.01171515])\n"
     ]
    }
   ],
   "source": [
    "def trialPIB(var,x):\n",
    "    a,b,c,d,e,f,g,h=var\n",
    "    return a+b*x+c*x**2+d*x**3+d*x**4+f*x**5+g*x**6+h*x**7#+i*x**8+j*x**9\n",
    "def energy(variables):\n",
    "    a=.01\n",
    "    L=5\n",
    "    nPoints=int(L/a)\n",
    "    x=np.array([])\n",
    "    for i in range(nPoints):\n",
    "        x=np.append(x,[i*a])\n",
    "        \n",
    "    trial=np.array([])\n",
    "    for i in range(nPoints):\n",
    "        trial=np.append(trial,[trialPIB(variables,x[i])])\n",
    "        \n",
    "    trial2=trial*trial\n",
    "    norm=integrate(x,trial2)\n",
    "    trial=trial/math.sqrt(norm)\n",
    "    \n",
    "    derive=derive2(x,trial)\n",
    "            \n",
    "    return integrate(x,trial*(-1/2)*derive)\n",
    "\n",
    "L=5\n",
    "\n",
    "def c1(var):\n",
    "    return trialPIB(var,0)\n",
    "def c2(var):\n",
    "    return trialPIB(var,5)\n",
    "def c3(var):\n",
    "    return trialPIB(var,0.1)\n",
    "def ortho1(var):\n",
    "    a=.01\n",
    "    L=5\n",
    "    nPoints=int(L/a)\n",
    "    x=np.array([])\n",
    "    for i in range(nPoints):\n",
    "        x=np.append(x,[i*a])\n",
    "        \n",
    "    trial=np.array([])\n",
    "    for i in range(nPoints):\n",
    "        trial=np.append(trial,[trialPIB(var,x[i])])\n",
    "        \n",
    "    trial2=trial*trial\n",
    "    norm=integrate(x,trial2)\n",
    "    trial=trial/math.sqrt(norm)\n",
    "    \n",
    "    thing=integrate(x,trial*trial1)\n",
    "    return thing\n",
    "\n",
    "\n",
    "take1=result.x\n",
    "take1=np.append(take1,[0,0])\n",
    "result2= optimize.minimize(energy,take1,\n",
    "                          bounds=((-10,10),(-10,10),(-10,10),(-10,10),(-10,10),(-10,10),(-10,10),(-10,10)),\n",
    "                          constraints=({\"fun\":c1,\"type\":\"eq\"},\n",
    "                                       {\"fun\":c2,\"type\":\"eq\"},\n",
    "                                       {\"fun\":c3,\"type\":\"ineq\"},\n",
    "                                       {\"fun\":ortho1,\"type\":\"eq\"}))\n",
    "print(result2)"
   ]
  },
  {
   "cell_type": "code",
   "execution_count": 7,
   "metadata": {},
   "outputs": [
    {
     "name": "stdout",
     "output_type": "stream",
     "text": [
      "0.81992\n",
      "3.84\n"
     ]
    },
    {
     "data": {
      "image/png": "[encoded data removed]",
      "text/plain": [
       "<Figure size 432x288 with 1 Axes>"
      ]
     },
     "metadata": {
      "needs_background": "light"
     },
     "output_type": "display_data"
    }
   ],
   "source": [
    "a=.01\n",
    "L=5\n",
    "nPoints=int(L/a)\n",
    "x=np.array([])\n",
    "for i in range(nPoints):\n",
    "    x=np.append(x,[i*a])\n",
    "       \n",
    "trial=np.array([])\n",
    "exact=np.array([])\n",
    "for i in range(nPoints):\n",
    "    trial=np.append(trial,[trialPIB(result2.x,x[i])])\n",
    "    exact=np.append(exact,[psiPIB(2,x[i],5)])\n",
    "\n",
    "norm=integrate(x,trial*trial)\n",
    "trial2=trial/math.sqrt(norm)\n",
    "\n",
    "plt.plot(x,trial2)\n",
    "plt.plot(x,exact)\n",
    "\n",
    "derive=derive2(x,trial2)\n",
    "\n",
    "value=integrate(x,trial2*(-1/2)*derive)\n",
    "print(\"{0:.5f}\".format(value))\n",
    "print(\"{0:.2f}\".format((value-energyPIB(2,5))/energyPIB(2,5)*100))"
   ]
  },
  {
   "cell_type": "markdown",
   "metadata": {},
   "source": [
    "## The Hydrogen Atom can be described by Variational approximations"
   ]
  },
  {
   "cell_type": "code",
   "execution_count": 8,
   "metadata": {},
   "outputs": [
    {
     "name": "stdout",
     "output_type": "stream",
     "text": [
      "-0.49879\n",
      "      fun: -0.4987950858773319\n",
      " hess_inv: array([[0.93227357]])\n",
      "      jac: array([5.12599945e-05])\n",
      "  message: 'Desired error not necessarily achieved due to precision loss.'\n",
      "     nfev: 108\n",
      "      nit: 4\n",
      "     njev: 32\n",
      "   status: 2\n",
      "  success: False\n",
      "        x: array([1.00047306])\n"
     ]
    }
   ],
   "source": [
    "def trialH(a,r): return math.exp(-a*r)\n",
    "def energyH(alpha):\n",
    "    a=.001\n",
    "    L=10\n",
    "    e=0\n",
    "    Z=1\n",
    "    nPoints=int(L/a)\n",
    "    r=np.array([])\n",
    "    for i in range(1,nPoints+1):\n",
    "        r=np.append(r,[i*a])\n",
    "        \n",
    "    trial=np.array([])\n",
    "    for i in range(nPoints):\n",
    "        trial=np.append(trial,[trialH(alpha,r[i])])\n",
    "        \n",
    "    norm=rIntegrate(r,trial**2)\n",
    "    trial=trial/math.sqrt(norm)\n",
    "    \n",
    "    d1=derive1(r,trial)\n",
    "    d2=derive2(r,trial)\n",
    "    \n",
    "    ##Fixed, must have very tight a\n",
    "    return rIntegrate(r,trial*((-1/2)*(d2+2/r*d1)+e*(e+1)*trial/(2*r**2)-Z*trial/r))\n",
    "\n",
    "\n",
    "print(\"{0:.5f}\".format(energyH(1)))\n",
    "resultH=optimize.minimize(energyH,0.75)\n",
    "\n",
    "print(resultH)"
   ]
  },
  {
   "cell_type": "code",
   "execution_count": 9,
   "metadata": {},
   "outputs": [
    {
     "data": {
      "text/plain": [
       "(0, 4)"
      ]
     },
     "execution_count": 9,
     "metadata": {},
     "output_type": "execute_result"
    },
    {
     "data": {
      "image/png": "[encoded data removed]",
      "text/plain": [
       "<Figure size 432x288 with 1 Axes>"
      ]
     },
     "metadata": {
      "needs_background": "light"
     },
     "output_type": "display_data"
    }
   ],
   "source": [
    "a=.001\n",
    "L=10\n",
    "e=0\n",
    "Z=1\n",
    "nPoints=int(L/a)\n",
    "r=np.array([])\n",
    "for i in range(1,nPoints+1):\n",
    "    r=np.append(r,[i*a])\n",
    "\n",
    "trial=np.array([])\n",
    "for i in range(nPoints):\n",
    "    trial=np.append(trial,[trialH(resultH.x,r[i])])\n",
    "\n",
    "norm=rIntegrate(r,trial**2)\n",
    "trialS=trial/math.sqrt(norm)\n",
    "\n",
    "plt.plot(r,trialS)\n",
    "plt.xlim(0,4)"
   ]
  },
  {
   "cell_type": "markdown",
   "metadata": {},
   "source": [
    "### Gaussian orbitals are another option, that hold use in molecules. "
   ]
  },
  {
   "cell_type": "code",
   "execution_count": 10,
   "metadata": {},
   "outputs": [
    {
     "name": "stdout",
     "output_type": "stream",
     "text": [
      "-0.42367\n",
      "      fun: -0.424172808026137\n",
      " hess_inv: array([[1.38162894e-05]])\n",
      "      jac: array([-7.4505806e-09])\n",
      "  message: 'Optimization terminated successfully.'\n",
      "     nfev: 66\n",
      "      nit: 4\n",
      "     njev: 22\n",
      "   status: 0\n",
      "  success: True\n",
      "        x: array([0.28249577])\n"
     ]
    }
   ],
   "source": [
    "def trialH(a,r): return math.exp(-a*r**2) #The normalizaiton constant is well known, but in python, computing the norm is quicker than taking a 3/4 power\n",
    "def energyH(alpha):\n",
    "    a=.001\n",
    "    L=10\n",
    "    e=0\n",
    "    Z=1\n",
    "    nPoints=int(L/a)\n",
    "    r=np.array([])\n",
    "    for i in range(1,nPoints+1):\n",
    "        r=np.append(r,[i*a])\n",
    "        \n",
    "    trial=np.array([])\n",
    "    for i in range(nPoints):\n",
    "        trial=np.append(trial,[trialH(alpha,r[i])])\n",
    "        \n",
    "    norm=rIntegrate(r,trial**2)\n",
    "    trial=trial/math.sqrt(norm)\n",
    "    \n",
    "    d1=derive1(r,trial)\n",
    "    d2=derive2(r,trial)\n",
    "    \n",
    "    ##Fixed, must have very tight a\n",
    "    return rIntegrate(r,trial*((-1/2)*(d2+2/r*d1)+e*(e+1)*trial/(2*r**2)-Z*trial/r))\n",
    "\n",
    "\n",
    "print(\"{0:.5f}\".format(energyH(.26338)))\n",
    "resultH=optimize.minimize(energyH,0.25)\n",
    "\n",
    "print(resultH)"
   ]
  },
  {
   "cell_type": "code",
   "execution_count": 11,
   "metadata": {},
   "outputs": [
    {
     "data": {
      "text/plain": [
       "(0, 4)"
      ]
     },
     "execution_count": 11,
     "metadata": {},
     "output_type": "execute_result"
    },
    {
     "data": {
      "image/png": "[encoded data removed]",
      "text/plain": [
       "<Figure size 432x288 with 1 Axes>"
      ]
     },
     "metadata": {
      "needs_background": "light"
     },
     "output_type": "display_data"
    }
   ],
   "source": [
    "a=.001\n",
    "L=10\n",
    "e=0\n",
    "Z=1\n",
    "nPoints=int(L/a)\n",
    "r=np.array([])\n",
    "for i in range(1,nPoints+1):\n",
    "    r=np.append(r,[i*a])\n",
    "\n",
    "trial=np.array([])\n",
    "for i in range(nPoints):\n",
    "    trial=np.append(trial,[trialH(resultH.x,r[i])])\n",
    "\n",
    "norm=rIntegrate(r,trial**2)\n",
    "trialG=trial/math.sqrt(norm)\n",
    "\n",
    "plt.plot(r,trialG)\n",
    "plt.xlim(0,4)"
   ]
  },
  {
   "cell_type": "markdown",
   "metadata": {},
   "source": [
    "#### To Compare"
   ]
  },
  {
   "cell_type": "code",
   "execution_count": 12,
   "metadata": {},
   "outputs": [
    {
     "data": {
      "text/plain": [
       "(0, 4)"
      ]
     },
     "execution_count": 12,
     "metadata": {},
     "output_type": "execute_result"
    },
    {
     "data": {
      "image/png": "[encoded data removed]",
      "text/plain": [
       "<Figure size 432x288 with 1 Axes>"
      ]
     },
     "metadata": {
      "needs_background": "light"
     },
     "output_type": "display_data"
    }
   ],
   "source": [
    "plt.plot(r,trialS)\n",
    "plt.plot(r,trialG)\n",
    "plt.xlim(0,4)"
   ]
  },
  {
   "cell_type": "markdown",
   "metadata": {},
   "source": [
    "## Using Linear Variational Functions\n",
    "\n",
    "This allows for matrix math!! No optimization!"
   ]
  },
  {
   "cell_type": "markdown",
   "metadata": {},
   "source": [
    "### Particle in slanted box!"
   ]
  },
  {
   "cell_type": "code",
   "execution_count": 64,
   "metadata": {},
   "outputs": [
    {
     "name": "stdout",
     "output_type": "stream",
     "text": [
      "[[ 4.47391384e-01 -9.00630709e-02 -5.38957716e-07 -7.20390705e-03\n",
      "  -2.14465202e-06 -1.98146649e-03 -5.61889652e-06 -8.08610705e-04\n",
      "  -1.17070454e-05 -3.97549921e-04]\n",
      " [-9.00631644e-02  1.03955755e+00 -9.72672584e-02 -2.30972489e-06\n",
      "  -9.18584079e-03 -7.20301639e-06 -2.79073093e-03 -1.65791168e-05\n",
      "  -1.20700043e-03 -3.19267874e-05]\n",
      " [-1.64943745e-07 -9.72677259e-02  2.02647458e+00 -9.92499399e-02\n",
      "  -6.43361724e-06 -9.99622627e-03 -1.68558021e-05 -3.19061427e-03\n",
      "  -3.51192875e-05 -1.42035694e-03]\n",
      " [-7.20484202e-03 -8.13816588e-07 -9.92512487e-02  3.40810255e+00\n",
      "  -1.00061727e-01 -1.44048954e-05 -1.03980707e-02 -3.31556154e-05\n",
      "  -3.40649006e-03 -6.38485331e-05]\n",
      " [-2.74877285e-07 -9.18911280e-03 -2.69436312e-06 -1.00064531e-01\n",
      "   5.18438562e+00 -1.00465813e-01 -2.80900461e-05 -1.06169335e-02\n",
      "  -5.85259839e-05 -3.52272490e-03]\n",
      " [-1.98473824e-03 -1.22056421e-06 -1.00037974e-02 -6.92771581e-06\n",
      "  -1.00470953e-01  7.35525199e+00 -1.00687944e-01 -4.97268784e-05\n",
      "  -1.07373667e-02 -9.57601964e-05]\n",
      " [-3.84767428e-07 -2.80054463e-03 -3.77151271e-06 -1.04124624e-02\n",
      "  -1.50078228e-05 -1.00696447e-01  9.92061390e+00 -1.00812857e-01\n",
      "  -8.19234383e-05 -1.07956061e-02]\n",
      " [-8.16460736e-04 -1.62711910e-06 -3.21117225e-03 -9.23525258e-06\n",
      "  -1.06412255e-02 -2.88006924e-05 -1.00825935e-01  1.28803676e+01\n",
      "  -1.00876974e-01 -1.27656738e-04]\n",
      " [-4.94596803e-07 -1.22858375e-03 -4.84806672e-06 -3.44292512e-03\n",
      "  -1.92917092e-05 -1.07751956e-02 -5.05434533e-05 -1.00896023e-01\n",
      "   1.62343936e+01 -1.00896918e-01]\n",
      " [-4.12964147e-04 -2.03341706e-06 -1.46285948e-03 -1.15413310e-05\n",
      "  -3.58109829e-03 -3.59923371e-05 -1.08511644e-02 -8.28432316e-05\n",
      "  -1.00923521e-01  1.99825562e+01]]\n"
     ]
    }
   ],
   "source": [
    "def V(x): return 0.1*x\n",
    "L=5\n",
    "a=.01\n",
    "nPoints=int(L/.01)\n",
    "\n",
    "nBasis=10\n",
    "def psi1DPIB(n,x,L):\n",
    "    return math.sqrt(2/L)*math.sin(n*math.pi*x/L)\n",
    "\n",
    "x=np.array([])\n",
    "psi=np.zeros((nPoints,nBasis))\n",
    "for i in range(nPoints):\n",
    "    x=np.append(x,i*a)\n",
    "    for j in range(nBasis):\n",
    "        psi[i][j]=psi1DPIB(j+1,x[i],L)\n",
    "\n",
    "psi=psi.T\n",
    "        \n",
    "hMat=np.zeros((nBasis,nBasis))\n",
    "              \n",
    "for i in range(nBasis):\n",
    "    for j in range(nBasis):\n",
    "        hMat[i][j]=integrate(x,psi[i]*(-1/2*derive2(x,psi[j])+V(x)*psi[j]))\n",
    "\n",
    "print(hMat)"
   ]
  },
  {
   "cell_type": "code",
   "execution_count": 67,
   "metadata": {},
   "outputs": [
    {
     "name": "stdout",
     "output_type": "stream",
     "text": [
      "0.4338438213908169\n"
     ]
    },
    {
     "data": {
      "text/plain": [
       "0.4338438213908172"
      ]
     },
     "execution_count": 67,
     "metadata": {},
     "output_type": "execute_result"
    }
   ],
   "source": [
    "eigen, eigenv=la.eig(hMat)\n",
    "eigenS=np.sort(eigen)\n",
    "print(eigenS[0])\n",
    "\n",
    "num=-1\n",
    "\n",
    "for i in range(nPoints):\n",
    "    if eigenS[0]==eigen[i]:\n",
    "        num=i\n",
    "        break\n",
    "\n",
    "eigenv=eigenv.T\n",
    "c=eigenv[num]\n",
    "c.dot(c)\n",
    "c.T.dot(hMat).dot(c)"
   ]
  },
  {
   "cell_type": "code",
   "execution_count": 19,
   "metadata": {},
   "outputs": [],
   "source": []
  },
  {
   "cell_type": "code",
   "execution_count": null,
   "metadata": {},
   "outputs": [],
   "source": []
  }
 ],
 "metadata": {
  "kernelspec": {
   "display_name": "Python 3",
   "language": "python",
   "name": "python3"
  },
  "language_info": {
   "codemirror_mode": {
    "name": "ipython",
    "version": 3
   },
   "file_extension": ".py",
   "mimetype": "text/x-python",
   "name": "python",
   "nbconvert_exporter": "python",
   "pygments_lexer": "ipython3",
   "version": "3.7.1"
  }
 },
 "nbformat": 4,
 "nbformat_minor": 2
}
